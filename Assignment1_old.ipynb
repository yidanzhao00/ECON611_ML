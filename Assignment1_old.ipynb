{
 "cells": [
  {
   "cell_type": "markdown",
   "id": "33789278-7646-4af1-b417-a9bc8b78e3f7",
   "metadata": {},
   "source": [
    "### Preliminaries"
   ]
  },
  {
   "cell_type": "code",
   "execution_count": 1,
   "id": "5c60feab-18c9-4f56-a8db-dc5e3234a518",
   "metadata": {},
   "outputs": [],
   "source": [
    "import pandas as pd\n",
    "import numpy as np\n",
    "import matplotlib.pyplot as plt\n",
    "from sklearn import linear_model\n",
    "from sklearn.metrics import r2_score\n",
    "from sklearn.linear_model import LinearRegression\n",
    "from sklearn.linear_model import Ridge\n",
    "from sklearn.model_selection import train_test_split\n",
    "from sklearn.metrics import mean_squared_error\n",
    "from sklearn.linear_model import Lasso\n",
    "from sklearn.tree import DecisionTreeRegressor\n",
    "from sklearn.model_selection import cross_val_score"
   ]
  },
  {
   "cell_type": "code",
   "execution_count": 2,
   "id": "b88c4763-1bdb-4b00-9dde-31e239e533e1",
   "metadata": {},
   "outputs": [
    {
     "name": "stderr",
     "output_type": "stream",
     "text": [
      "C:\\Users\\zhaoy\\anaconda3\\envs\\tf2\\lib\\site-packages\\IPython\\core\\interactiveshell.py:3444: DtypeWarning: Columns (4) have mixed types.Specify dtype option on import or set low_memory=False.\n",
      "  exec(code_obj, self.user_global_ns, self.user_ns)\n"
     ]
    },
    {
     "data": {
      "text/html": [
       "<div>\n",
       "<style scoped>\n",
       "    .dataframe tbody tr th:only-of-type {\n",
       "        vertical-align: middle;\n",
       "    }\n",
       "\n",
       "    .dataframe tbody tr th {\n",
       "        vertical-align: top;\n",
       "    }\n",
       "\n",
       "    .dataframe thead th {\n",
       "        text-align: right;\n",
       "    }\n",
       "</style>\n",
       "<table border=\"1\" class=\"dataframe\">\n",
       "  <thead>\n",
       "    <tr style=\"text-align: right;\">\n",
       "      <th></th>\n",
       "      <th>id</th>\n",
       "      <th>name</th>\n",
       "      <th>host_id</th>\n",
       "      <th>host_name</th>\n",
       "      <th>neighbourhood_group</th>\n",
       "      <th>neighbourhood</th>\n",
       "      <th>latitude</th>\n",
       "      <th>longitude</th>\n",
       "      <th>room_type</th>\n",
       "      <th>price</th>\n",
       "      <th>minimum_nights</th>\n",
       "      <th>number_of_reviews</th>\n",
       "      <th>last_review</th>\n",
       "      <th>reviews_per_month</th>\n",
       "      <th>calculated_host_listings_count</th>\n",
       "      <th>availability_365</th>\n",
       "      <th>city</th>\n",
       "    </tr>\n",
       "  </thead>\n",
       "  <tbody>\n",
       "    <tr>\n",
       "      <th>0</th>\n",
       "      <td>38585</td>\n",
       "      <td>Charming Victorian home - twin beds + breakfast</td>\n",
       "      <td>165529</td>\n",
       "      <td>Evelyne</td>\n",
       "      <td>NaN</td>\n",
       "      <td>28804</td>\n",
       "      <td>35.65146</td>\n",
       "      <td>-82.62792</td>\n",
       "      <td>Private room</td>\n",
       "      <td>60</td>\n",
       "      <td>1</td>\n",
       "      <td>138</td>\n",
       "      <td>16/02/20</td>\n",
       "      <td>1.14</td>\n",
       "      <td>1</td>\n",
       "      <td>0</td>\n",
       "      <td>Asheville</td>\n",
       "    </tr>\n",
       "    <tr>\n",
       "      <th>1</th>\n",
       "      <td>80905</td>\n",
       "      <td>French Chic Loft</td>\n",
       "      <td>427027</td>\n",
       "      <td>Celeste</td>\n",
       "      <td>NaN</td>\n",
       "      <td>28801</td>\n",
       "      <td>35.59779</td>\n",
       "      <td>-82.55540</td>\n",
       "      <td>Entire home/apt</td>\n",
       "      <td>470</td>\n",
       "      <td>1</td>\n",
       "      <td>114</td>\n",
       "      <td>7/9/2020</td>\n",
       "      <td>1.03</td>\n",
       "      <td>11</td>\n",
       "      <td>288</td>\n",
       "      <td>Asheville</td>\n",
       "    </tr>\n",
       "    <tr>\n",
       "      <th>2</th>\n",
       "      <td>108061</td>\n",
       "      <td>Walk to stores/parks/downtown. Fenced yard/Pet...</td>\n",
       "      <td>320564</td>\n",
       "      <td>Lisa</td>\n",
       "      <td>NaN</td>\n",
       "      <td>28801</td>\n",
       "      <td>35.60670</td>\n",
       "      <td>-82.55563</td>\n",
       "      <td>Entire home/apt</td>\n",
       "      <td>75</td>\n",
       "      <td>30</td>\n",
       "      <td>89</td>\n",
       "      <td>30/11/19</td>\n",
       "      <td>0.81</td>\n",
       "      <td>2</td>\n",
       "      <td>298</td>\n",
       "      <td>Asheville</td>\n",
       "    </tr>\n",
       "    <tr>\n",
       "      <th>3</th>\n",
       "      <td>155305</td>\n",
       "      <td>Cottage! BonPaul + Sharky's Hostel</td>\n",
       "      <td>746673</td>\n",
       "      <td>BonPaul</td>\n",
       "      <td>NaN</td>\n",
       "      <td>28806</td>\n",
       "      <td>35.57864</td>\n",
       "      <td>-82.59578</td>\n",
       "      <td>Entire home/apt</td>\n",
       "      <td>90</td>\n",
       "      <td>1</td>\n",
       "      <td>267</td>\n",
       "      <td>22/09/20</td>\n",
       "      <td>2.39</td>\n",
       "      <td>5</td>\n",
       "      <td>0</td>\n",
       "      <td>Asheville</td>\n",
       "    </tr>\n",
       "    <tr>\n",
       "      <th>4</th>\n",
       "      <td>160594</td>\n",
       "      <td>Historic Grove Park</td>\n",
       "      <td>769252</td>\n",
       "      <td>Elizabeth</td>\n",
       "      <td>NaN</td>\n",
       "      <td>28801</td>\n",
       "      <td>35.61442</td>\n",
       "      <td>-82.54127</td>\n",
       "      <td>Private room</td>\n",
       "      <td>125</td>\n",
       "      <td>30</td>\n",
       "      <td>58</td>\n",
       "      <td>19/10/15</td>\n",
       "      <td>0.52</td>\n",
       "      <td>1</td>\n",
       "      <td>0</td>\n",
       "      <td>Asheville</td>\n",
       "    </tr>\n",
       "  </tbody>\n",
       "</table>\n",
       "</div>"
      ],
      "text/plain": [
       "       id                                               name  host_id  \\\n",
       "0   38585    Charming Victorian home - twin beds + breakfast   165529   \n",
       "1   80905                                   French Chic Loft   427027   \n",
       "2  108061  Walk to stores/parks/downtown. Fenced yard/Pet...   320564   \n",
       "3  155305                 Cottage! BonPaul + Sharky's Hostel   746673   \n",
       "4  160594                                Historic Grove Park   769252   \n",
       "\n",
       "   host_name neighbourhood_group neighbourhood  latitude  longitude  \\\n",
       "0    Evelyne                 NaN         28804  35.65146  -82.62792   \n",
       "1    Celeste                 NaN         28801  35.59779  -82.55540   \n",
       "2       Lisa                 NaN         28801  35.60670  -82.55563   \n",
       "3    BonPaul                 NaN         28806  35.57864  -82.59578   \n",
       "4  Elizabeth                 NaN         28801  35.61442  -82.54127   \n",
       "\n",
       "         room_type  price  minimum_nights  number_of_reviews last_review  \\\n",
       "0     Private room     60               1                138    16/02/20   \n",
       "1  Entire home/apt    470               1                114    7/9/2020   \n",
       "2  Entire home/apt     75              30                 89    30/11/19   \n",
       "3  Entire home/apt     90               1                267    22/09/20   \n",
       "4     Private room    125              30                 58    19/10/15   \n",
       "\n",
       "   reviews_per_month  calculated_host_listings_count  availability_365  \\\n",
       "0               1.14                               1                 0   \n",
       "1               1.03                              11               288   \n",
       "2               0.81                               2               298   \n",
       "3               2.39                               5                 0   \n",
       "4               0.52                               1                 0   \n",
       "\n",
       "        city  \n",
       "0  Asheville  \n",
       "1  Asheville  \n",
       "2  Asheville  \n",
       "3  Asheville  \n",
       "4  Asheville  "
      ]
     },
     "execution_count": 2,
     "metadata": {},
     "output_type": "execute_result"
    }
   ],
   "source": [
    "#Load in data set\n",
    "ABBdata = pd.read_csv(\"C:/Users/zhaoy/Documents/ECON611_ML/AirBnB price pred.csv\")\n",
    "#View data\n",
    "ABBdata.head()"
   ]
  },
  {
   "cell_type": "code",
   "execution_count": 3,
   "id": "3796c172-b466-4a1d-8401-701cb26c459a",
   "metadata": {},
   "outputs": [],
   "source": [
    "#Places with more minimum nights than 365 are not short term listings\n",
    "ABBdata = ABBdata[ABBdata['minimum_nights']<365]\n",
    "\n",
    "#Get Unique City names\n",
    "cities = ABBdata.city.unique()\n",
    "#Make cities into a dataframe that we can work with\n",
    "cities = pd.DataFrame(cities, columns =['CityName'])\n",
    "\n",
    "#Create a set of city indicators\n",
    "for i, row in enumerate(cities.values):\n",
    "    citydum = cities.CityName[i]==ABBdata.city\n",
    "    colname = cities.CityName[i]\n",
    "    ABBdata[colname]=citydum\n",
    "\n",
    "#Use log price - need to add 1 before doing so because ln(0) doesnt exist\n",
    "ABBdata['price']=np.log(ABBdata['price']+1)\n",
    "\n",
    "#Create substring\n",
    "sub = \"Entire\"\n",
    "#I call this \"sub\" because I will search for this substring\n",
    "ABBdata[\"Entire\"]= ABBdata[\"room_type\"].str.find(sub, 0)\n",
    "\n",
    "#Create a \"true\" or \"false\" that it is the entire place\n",
    "ABBdata[\"Entire\"] = ABBdata.Entire>=0\n",
    "#Assign 1 to \"True\" and 0 to \"False\"\n",
    "ABBdata[\"Entire\"] = ABBdata[\"Entire\"].astype(int)\n",
    "\n",
    "#look at owner descriptions. Transform everything to lower case to make text easier to process\n",
    "# (the operators we use are case-sensitive) (PRE PROCESSING)\n",
    "ABBdata['name'] = ABBdata['name'].str.lower()\n",
    "\n",
    "#The word \"minutes\" is often used to say that the listing is very close to something desirable, like downtown, museums etc.\n",
    "sub = \"minutes\"\n",
    "ABBdata[\"Minutes\"]= ABBdata[\"name\"].str.find(sub, 0)\n",
    "ABBdata[\"Minutes\"] = ABBdata.Minutes>=0\n",
    "ABBdata[\"Minutes\"]=ABBdata[\"Minutes\"].astype(int)\n",
    "#CLeanliness of the place, etc.\n",
    "sub = \"clean\"\n",
    "ABBdata[\"Clean\"]= ABBdata[\"name\"].str.find(sub, 0)\n",
    "ABBdata[\"Clean\"] = ABBdata.Clean>=0\n",
    "ABBdata[\"Clean\"] = ABBdata[\"Clean\"].astype(int)\n",
    "sub = \"convenient\"\n",
    "ABBdata[\"Convenient\"]= ABBdata[\"name\"].str.find(sub, 0)\n",
    "ABBdata[\"Convenient\"] = ABBdata.Convenient>=0\n",
    "ABBdata[\"Convenient\"] = ABBdata[\"Convenient\"].astype(int)\n",
    "sub = \"charm\"\n",
    "ABBdata[\"Charm\"]= ABBdata[\"name\"].str.find(sub, 0)\n",
    "ABBdata[\"Charm\"] = ABBdata.Charm>=0\n",
    "ABBdata[\"Charm\"] = ABBdata[\"Charm\"].astype(int)\n",
    "sub = \"cozy\"\n",
    "ABBdata[\"Cozy\"]= ABBdata[\"name\"].str.find(sub, 0)\n",
    "ABBdata[\"Cozy\"] = ABBdata.Cozy>=0\n",
    "ABBdata[\"Cozy\"] = ABBdata[\"Cozy\"].astype(int)\n",
    "sub = \"comf\"\n",
    "ABBdata[\"Comfortable\"]= ABBdata[\"name\"].str.find(sub, 0)\n",
    "ABBdata[\"Comfortable\"] = ABBdata.Comfortable>=0\n",
    "ABBdata[\"Comfortable\"] = ABBdata[\"Comfortable\"].astype(int)"
   ]
  },
  {
   "cell_type": "code",
   "execution_count": 4,
   "id": "6d7108ac-6549-483a-b75c-798c1f54598e",
   "metadata": {},
   "outputs": [
    {
     "data": {
      "text/plain": [
       "Index(['id', 'name', 'host_id', 'host_name', 'neighbourhood_group',\n",
       "       'neighbourhood', 'latitude', 'longitude', 'room_type', 'price',\n",
       "       'minimum_nights', 'number_of_reviews', 'last_review',\n",
       "       'reviews_per_month', 'calculated_host_listings_count',\n",
       "       'availability_365', 'city', 'Asheville', 'Austin', 'Boston',\n",
       "       'Broward County', 'Cambridge', 'Chicago', 'Clark County', 'Columbus',\n",
       "       'Denver', 'Hawaii', 'Jersey City', 'Los Angeles', 'Nashville',\n",
       "       'New Orleans', 'New York City', 'Oakland', 'Pacific Grove', 'Portland',\n",
       "       'Rhode Island', 'Salem', 'San Clara Country', 'San Diego',\n",
       "       'San Francisco', 'San Mateo County', 'Santa Cruz County', 'Seattle',\n",
       "       'Twin Cities MSA', 'Washington D.C.', 'Entire', 'Minutes', 'Clean',\n",
       "       'Convenient', 'Charm', 'Cozy', 'Comfortable'],\n",
       "      dtype='object')"
      ]
     },
     "execution_count": 4,
     "metadata": {},
     "output_type": "execute_result"
    }
   ],
   "source": [
    "ABBdata.columns"
   ]
  },
  {
   "cell_type": "code",
   "execution_count": 5,
   "id": "9f5e8e84-3852-4f32-b4e4-b846ed906ca1",
   "metadata": {},
   "outputs": [],
   "source": [
    "#Drop Columns we aren't going to use\n",
    "ABBdata = ABBdata.drop(['id', 'name', 'host_name', 'city', 'host_id','neighbourhood', 'neighbourhood_group', 'latitude', 'longitude', 'room_type', 'last_review'], axis=1)\n",
    "ABBdata = ABBdata.dropna(axis=0, how='any')\n",
    "ABBdata.head()\n",
    "\n",
    "#Sort data on something other than city name - sorting on city name means for some folds we wont have any observations for some cities\n",
    "ABBdata = ABBdata.sort_values(by=['price'])\n",
    "\n",
    "#Create our Y and X data, which we will input into sci-kit learn\n",
    "ydata = pd.DataFrame(ABBdata.price)\n",
    "xdata = pd.DataFrame(ABBdata)\n",
    "xdata = xdata.drop(['price'], axis=1)"
   ]
  },
  {
   "cell_type": "code",
   "execution_count": 6,
   "id": "f732613a-0857-4b9d-ab92-53e144c150ec",
   "metadata": {},
   "outputs": [
    {
     "data": {
      "text/html": [
       "<div>\n",
       "<style scoped>\n",
       "    .dataframe tbody tr th:only-of-type {\n",
       "        vertical-align: middle;\n",
       "    }\n",
       "\n",
       "    .dataframe tbody tr th {\n",
       "        vertical-align: top;\n",
       "    }\n",
       "\n",
       "    .dataframe thead th {\n",
       "        text-align: right;\n",
       "    }\n",
       "</style>\n",
       "<table border=\"1\" class=\"dataframe\">\n",
       "  <thead>\n",
       "    <tr style=\"text-align: right;\">\n",
       "      <th></th>\n",
       "      <th>minimum_nights</th>\n",
       "      <th>number_of_reviews</th>\n",
       "      <th>reviews_per_month</th>\n",
       "      <th>calculated_host_listings_count</th>\n",
       "      <th>availability_365</th>\n",
       "      <th>Asheville</th>\n",
       "      <th>Austin</th>\n",
       "      <th>Boston</th>\n",
       "      <th>Broward County</th>\n",
       "      <th>Cambridge</th>\n",
       "      <th>...</th>\n",
       "      <th>Seattle</th>\n",
       "      <th>Twin Cities MSA</th>\n",
       "      <th>Washington D.C.</th>\n",
       "      <th>Entire</th>\n",
       "      <th>Minutes</th>\n",
       "      <th>Clean</th>\n",
       "      <th>Convenient</th>\n",
       "      <th>Charm</th>\n",
       "      <th>Cozy</th>\n",
       "      <th>Comfortable</th>\n",
       "    </tr>\n",
       "  </thead>\n",
       "  <tbody>\n",
       "    <tr>\n",
       "      <th>0</th>\n",
       "      <td>2</td>\n",
       "      <td>143</td>\n",
       "      <td>4.21</td>\n",
       "      <td>24</td>\n",
       "      <td>171</td>\n",
       "      <td>False</td>\n",
       "      <td>False</td>\n",
       "      <td>False</td>\n",
       "      <td>False</td>\n",
       "      <td>False</td>\n",
       "      <td>...</td>\n",
       "      <td>False</td>\n",
       "      <td>False</td>\n",
       "      <td>False</td>\n",
       "      <td>0</td>\n",
       "      <td>0</td>\n",
       "      <td>0</td>\n",
       "      <td>0</td>\n",
       "      <td>0</td>\n",
       "      <td>0</td>\n",
       "      <td>0</td>\n",
       "    </tr>\n",
       "    <tr>\n",
       "      <th>1</th>\n",
       "      <td>1</td>\n",
       "      <td>16</td>\n",
       "      <td>0.45</td>\n",
       "      <td>3</td>\n",
       "      <td>0</td>\n",
       "      <td>False</td>\n",
       "      <td>False</td>\n",
       "      <td>False</td>\n",
       "      <td>False</td>\n",
       "      <td>False</td>\n",
       "      <td>...</td>\n",
       "      <td>False</td>\n",
       "      <td>False</td>\n",
       "      <td>False</td>\n",
       "      <td>0</td>\n",
       "      <td>0</td>\n",
       "      <td>0</td>\n",
       "      <td>0</td>\n",
       "      <td>0</td>\n",
       "      <td>0</td>\n",
       "      <td>0</td>\n",
       "    </tr>\n",
       "    <tr>\n",
       "      <th>2</th>\n",
       "      <td>2</td>\n",
       "      <td>118</td>\n",
       "      <td>3.55</td>\n",
       "      <td>24</td>\n",
       "      <td>0</td>\n",
       "      <td>False</td>\n",
       "      <td>False</td>\n",
       "      <td>False</td>\n",
       "      <td>False</td>\n",
       "      <td>False</td>\n",
       "      <td>...</td>\n",
       "      <td>False</td>\n",
       "      <td>False</td>\n",
       "      <td>False</td>\n",
       "      <td>0</td>\n",
       "      <td>0</td>\n",
       "      <td>0</td>\n",
       "      <td>0</td>\n",
       "      <td>0</td>\n",
       "      <td>0</td>\n",
       "      <td>0</td>\n",
       "    </tr>\n",
       "    <tr>\n",
       "      <th>3</th>\n",
       "      <td>2</td>\n",
       "      <td>97</td>\n",
       "      <td>2.91</td>\n",
       "      <td>24</td>\n",
       "      <td>163</td>\n",
       "      <td>False</td>\n",
       "      <td>False</td>\n",
       "      <td>False</td>\n",
       "      <td>False</td>\n",
       "      <td>False</td>\n",
       "      <td>...</td>\n",
       "      <td>False</td>\n",
       "      <td>False</td>\n",
       "      <td>False</td>\n",
       "      <td>0</td>\n",
       "      <td>0</td>\n",
       "      <td>0</td>\n",
       "      <td>0</td>\n",
       "      <td>0</td>\n",
       "      <td>0</td>\n",
       "      <td>0</td>\n",
       "    </tr>\n",
       "    <tr>\n",
       "      <th>4</th>\n",
       "      <td>1</td>\n",
       "      <td>2</td>\n",
       "      <td>0.24</td>\n",
       "      <td>5</td>\n",
       "      <td>0</td>\n",
       "      <td>False</td>\n",
       "      <td>False</td>\n",
       "      <td>False</td>\n",
       "      <td>False</td>\n",
       "      <td>False</td>\n",
       "      <td>...</td>\n",
       "      <td>False</td>\n",
       "      <td>False</td>\n",
       "      <td>False</td>\n",
       "      <td>0</td>\n",
       "      <td>0</td>\n",
       "      <td>0</td>\n",
       "      <td>0</td>\n",
       "      <td>0</td>\n",
       "      <td>0</td>\n",
       "      <td>0</td>\n",
       "    </tr>\n",
       "    <tr>\n",
       "      <th>...</th>\n",
       "      <td>...</td>\n",
       "      <td>...</td>\n",
       "      <td>...</td>\n",
       "      <td>...</td>\n",
       "      <td>...</td>\n",
       "      <td>...</td>\n",
       "      <td>...</td>\n",
       "      <td>...</td>\n",
       "      <td>...</td>\n",
       "      <td>...</td>\n",
       "      <td>...</td>\n",
       "      <td>...</td>\n",
       "      <td>...</td>\n",
       "      <td>...</td>\n",
       "      <td>...</td>\n",
       "      <td>...</td>\n",
       "      <td>...</td>\n",
       "      <td>...</td>\n",
       "      <td>...</td>\n",
       "      <td>...</td>\n",
       "      <td>...</td>\n",
       "    </tr>\n",
       "    <tr>\n",
       "      <th>177259</th>\n",
       "      <td>2</td>\n",
       "      <td>4</td>\n",
       "      <td>0.62</td>\n",
       "      <td>4</td>\n",
       "      <td>258</td>\n",
       "      <td>True</td>\n",
       "      <td>False</td>\n",
       "      <td>False</td>\n",
       "      <td>False</td>\n",
       "      <td>False</td>\n",
       "      <td>...</td>\n",
       "      <td>False</td>\n",
       "      <td>False</td>\n",
       "      <td>False</td>\n",
       "      <td>1</td>\n",
       "      <td>0</td>\n",
       "      <td>0</td>\n",
       "      <td>0</td>\n",
       "      <td>0</td>\n",
       "      <td>0</td>\n",
       "      <td>0</td>\n",
       "    </tr>\n",
       "    <tr>\n",
       "      <th>177260</th>\n",
       "      <td>3</td>\n",
       "      <td>5</td>\n",
       "      <td>0.22</td>\n",
       "      <td>166</td>\n",
       "      <td>0</td>\n",
       "      <td>False</td>\n",
       "      <td>False</td>\n",
       "      <td>False</td>\n",
       "      <td>False</td>\n",
       "      <td>False</td>\n",
       "      <td>...</td>\n",
       "      <td>False</td>\n",
       "      <td>False</td>\n",
       "      <td>False</td>\n",
       "      <td>1</td>\n",
       "      <td>0</td>\n",
       "      <td>0</td>\n",
       "      <td>0</td>\n",
       "      <td>1</td>\n",
       "      <td>0</td>\n",
       "      <td>0</td>\n",
       "    </tr>\n",
       "    <tr>\n",
       "      <th>177261</th>\n",
       "      <td>3</td>\n",
       "      <td>4</td>\n",
       "      <td>0.10</td>\n",
       "      <td>166</td>\n",
       "      <td>0</td>\n",
       "      <td>False</td>\n",
       "      <td>False</td>\n",
       "      <td>False</td>\n",
       "      <td>False</td>\n",
       "      <td>False</td>\n",
       "      <td>...</td>\n",
       "      <td>False</td>\n",
       "      <td>False</td>\n",
       "      <td>False</td>\n",
       "      <td>1</td>\n",
       "      <td>0</td>\n",
       "      <td>0</td>\n",
       "      <td>0</td>\n",
       "      <td>0</td>\n",
       "      <td>0</td>\n",
       "      <td>0</td>\n",
       "    </tr>\n",
       "    <tr>\n",
       "      <th>177262</th>\n",
       "      <td>2</td>\n",
       "      <td>5</td>\n",
       "      <td>1.55</td>\n",
       "      <td>4</td>\n",
       "      <td>253</td>\n",
       "      <td>True</td>\n",
       "      <td>False</td>\n",
       "      <td>False</td>\n",
       "      <td>False</td>\n",
       "      <td>False</td>\n",
       "      <td>...</td>\n",
       "      <td>False</td>\n",
       "      <td>False</td>\n",
       "      <td>False</td>\n",
       "      <td>1</td>\n",
       "      <td>0</td>\n",
       "      <td>0</td>\n",
       "      <td>0</td>\n",
       "      <td>0</td>\n",
       "      <td>0</td>\n",
       "      <td>0</td>\n",
       "    </tr>\n",
       "    <tr>\n",
       "      <th>177263</th>\n",
       "      <td>3</td>\n",
       "      <td>2</td>\n",
       "      <td>0.07</td>\n",
       "      <td>166</td>\n",
       "      <td>0</td>\n",
       "      <td>False</td>\n",
       "      <td>False</td>\n",
       "      <td>False</td>\n",
       "      <td>False</td>\n",
       "      <td>False</td>\n",
       "      <td>...</td>\n",
       "      <td>False</td>\n",
       "      <td>False</td>\n",
       "      <td>False</td>\n",
       "      <td>1</td>\n",
       "      <td>0</td>\n",
       "      <td>0</td>\n",
       "      <td>0</td>\n",
       "      <td>0</td>\n",
       "      <td>0</td>\n",
       "      <td>0</td>\n",
       "    </tr>\n",
       "  </tbody>\n",
       "</table>\n",
       "<p>177264 rows × 40 columns</p>\n",
       "</div>"
      ],
      "text/plain": [
       "        minimum_nights  number_of_reviews  reviews_per_month  \\\n",
       "0                    2                143               4.21   \n",
       "1                    1                 16               0.45   \n",
       "2                    2                118               3.55   \n",
       "3                    2                 97               2.91   \n",
       "4                    1                  2               0.24   \n",
       "...                ...                ...                ...   \n",
       "177259               2                  4               0.62   \n",
       "177260               3                  5               0.22   \n",
       "177261               3                  4               0.10   \n",
       "177262               2                  5               1.55   \n",
       "177263               3                  2               0.07   \n",
       "\n",
       "        calculated_host_listings_count  availability_365  Asheville  Austin  \\\n",
       "0                                   24               171      False   False   \n",
       "1                                    3                 0      False   False   \n",
       "2                                   24                 0      False   False   \n",
       "3                                   24               163      False   False   \n",
       "4                                    5                 0      False   False   \n",
       "...                                ...               ...        ...     ...   \n",
       "177259                               4               258       True   False   \n",
       "177260                             166                 0      False   False   \n",
       "177261                             166                 0      False   False   \n",
       "177262                               4               253       True   False   \n",
       "177263                             166                 0      False   False   \n",
       "\n",
       "        Boston  Broward County  Cambridge  ...  Seattle  Twin Cities MSA  \\\n",
       "0        False           False      False  ...    False            False   \n",
       "1        False           False      False  ...    False            False   \n",
       "2        False           False      False  ...    False            False   \n",
       "3        False           False      False  ...    False            False   \n",
       "4        False           False      False  ...    False            False   \n",
       "...        ...             ...        ...  ...      ...              ...   \n",
       "177259   False           False      False  ...    False            False   \n",
       "177260   False           False      False  ...    False            False   \n",
       "177261   False           False      False  ...    False            False   \n",
       "177262   False           False      False  ...    False            False   \n",
       "177263   False           False      False  ...    False            False   \n",
       "\n",
       "        Washington D.C.  Entire  Minutes  Clean  Convenient  Charm  Cozy  \\\n",
       "0                 False       0        0      0           0      0     0   \n",
       "1                 False       0        0      0           0      0     0   \n",
       "2                 False       0        0      0           0      0     0   \n",
       "3                 False       0        0      0           0      0     0   \n",
       "4                 False       0        0      0           0      0     0   \n",
       "...                 ...     ...      ...    ...         ...    ...   ...   \n",
       "177259            False       1        0      0           0      0     0   \n",
       "177260            False       1        0      0           0      1     0   \n",
       "177261            False       1        0      0           0      0     0   \n",
       "177262            False       1        0      0           0      0     0   \n",
       "177263            False       1        0      0           0      0     0   \n",
       "\n",
       "        Comfortable  \n",
       "0                 0  \n",
       "1                 0  \n",
       "2                 0  \n",
       "3                 0  \n",
       "4                 0  \n",
       "...             ...  \n",
       "177259            0  \n",
       "177260            0  \n",
       "177261            0  \n",
       "177262            0  \n",
       "177263            0  \n",
       "\n",
       "[177264 rows x 40 columns]"
      ]
     },
     "execution_count": 6,
     "metadata": {},
     "output_type": "execute_result"
    }
   ],
   "source": [
    "xdata = xdata.reset_index(drop=True)\n",
    "xdata"
   ]
  },
  {
   "cell_type": "code",
   "execution_count": 7,
   "id": "eb90d67e-f3a4-422e-8645-06fc8f2ff032",
   "metadata": {},
   "outputs": [],
   "source": [
    "#Convert the pandas data frame to a numpy array to use scikit learn\n",
    "xdatan = xdata.values\n",
    "ydatan = ydata.values"
   ]
  },
  {
   "cell_type": "code",
   "execution_count": 8,
   "id": "241b7e29-7360-4f49-94b5-a51b66c756b6",
   "metadata": {},
   "outputs": [
    {
     "name": "stdout",
     "output_type": "stream",
     "text": [
      "Cross Validation\n",
      "Average MSE 0.66 std of MSE 0.59\n"
     ]
    }
   ],
   "source": [
    "# Initial model evaluation\n",
    "scores = cross_val_score(LinearRegression(), xdatan, ydatan, cv=5, scoring='neg_mean_squared_error')\n",
    "scores = -scores\n",
    "print(\"Cross Validation\")\n",
    "print(\"Average MSE %0.2f std of MSE %0.2f\" % (scores.mean(), scores.std()))"
   ]
  },
  {
   "cell_type": "markdown",
   "id": "1228dee7-5375-4f9b-b374-3b89d214a130",
   "metadata": {},
   "source": [
    "### 1(a)"
   ]
  },
  {
   "cell_type": "code",
   "execution_count": 9,
   "id": "2aa09254-71ba-4f13-aae0-cdf76a77c764",
   "metadata": {},
   "outputs": [
    {
     "data": {
      "text/plain": [
       "0.6618793313276718"
      ]
     },
     "execution_count": 9,
     "metadata": {},
     "output_type": "execute_result"
    }
   ],
   "source": [
    "# Getting the MSE score from the original model\n",
    "baseline_scores = cross_val_score(LinearRegression(), xdatan, ydatan.ravel(), cv=5, scoring='neg_mean_squared_error')\n",
    "baseline_mse = -baseline_scores.mean()\n",
    "baseline_mse"
   ]
  },
  {
   "cell_type": "code",
   "execution_count": 10,
   "id": "653d0336-4108-4301-a36f-1c70d76896c3",
   "metadata": {},
   "outputs": [],
   "source": [
    "# Creating a new variable for all exisiting features\n",
    "feature_names = xdata.columns\n",
    "performance_impact = []\n",
    "\n",
    "for feature in feature_names:\n",
    "    # Drop the feature\n",
    "    xdata_reduced = xdata.drop(columns=[feature])\n",
    "    xdatan_reduced = xdata_reduced.values\n",
    "    \n",
    "    # Perform cross-validation on the model with the reduced feature set\n",
    "    scores_reduced = cross_val_score(LinearRegression(), xdatan_reduced, ydatan.ravel(), cv=5, scoring='neg_mean_squared_error')\n",
    "    mse_reduced = -scores_reduced.mean()\n",
    "    \n",
    "    # Record the performance impact\n",
    "    performance_impact.append((feature, mse_reduced))\n"
   ]
  },
  {
   "cell_type": "code",
   "execution_count": 11,
   "id": "825015ed-19d3-4b87-85db-f60be02653b1",
   "metadata": {},
   "outputs": [
    {
     "data": {
      "text/plain": [
       "[('minimum_nights', 0.6714744666047101),\n",
       " ('number_of_reviews', 0.6598732294972874),\n",
       " ('reviews_per_month', 0.6717957769474752),\n",
       " ('calculated_host_listings_count', 0.6618587822174785),\n",
       " ('availability_365', 0.6673620955233351),\n",
       " ('Asheville', 0.6618793313276814),\n",
       " ('Austin', 0.6618793313276777),\n",
       " ('Boston', 0.661879331327676),\n",
       " ('Broward County', 0.6618793313276787),\n",
       " ('Cambridge', 0.6618793313276766),\n",
       " ('Chicago', 0.6618793313276802),\n",
       " ('Clark County', 0.6618793313276795),\n",
       " ('Columbus', 0.6618793313276778),\n",
       " ('Denver', 0.661879331327681),\n",
       " ('Hawaii', 0.661879331327674),\n",
       " ('Jersey City', 0.6618793313276811),\n",
       " ('Los Angeles', 0.6618793313276751),\n",
       " ('Nashville', 0.6618793313276814),\n",
       " ('New Orleans', 0.6618793313276782),\n",
       " ('New York City', 0.6618793313276746),\n",
       " ('Oakland', 0.6618793313276798),\n",
       " ('Pacific Grove', 0.6618793313276786),\n",
       " ('Portland', 0.6618793313276792),\n",
       " ('Rhode Island', 0.6618793313276811),\n",
       " ('Salem', 0.6618793313276783),\n",
       " ('San Clara Country', 0.6618793313276823),\n",
       " ('San Diego', 0.6618793313276757),\n",
       " ('San Francisco', 0.6618793313276796),\n",
       " ('San Mateo County', 0.6618793313276824),\n",
       " ('Santa Cruz County', 0.6618793313276797),\n",
       " ('Seattle', 0.6618793313276813),\n",
       " ('Twin Cities MSA', 0.6618793313276788),\n",
       " ('Washington D.C.', 0.6618793313276788),\n",
       " ('Entire', 0.8329812589155032),\n",
       " ('Minutes', 0.6618879394346713),\n",
       " ('Clean', 0.6623329810479899),\n",
       " ('Convenient', 0.6619429564104732),\n",
       " ('Charm', 0.6616153457252011),\n",
       " ('Cozy', 0.6681470951449724),\n",
       " ('Comfortable', 0.6631722563677425)]"
      ]
     },
     "execution_count": 11,
     "metadata": {},
     "output_type": "execute_result"
    }
   ],
   "source": [
    "performance_impact"
   ]
  },
  {
   "cell_type": "code",
   "execution_count": 91,
   "id": "ac599fa6-7558-493c-8197-80e4d3b6de81",
   "metadata": {},
   "outputs": [
    {
     "name": "stdout",
     "output_type": "stream",
     "text": [
      "Features whose removal improves performance: [('number_of_reviews', 0.6598732294972874), ('Charm', 0.6616153457252011), ('calculated_host_listings_count', 0.6618587822174785)]\n"
     ]
    }
   ],
   "source": [
    "# Sort features by their impact on MSE (lower is better)\n",
    "sorted_features_by_impact = sorted(performance_impact, key=lambda x: x[1])\n",
    "\n",
    "# Identify features whose removal improves model performance\n",
    "improved_features = [(feature, mse) for feature, mse in sorted_features_by_impact if mse < baseline_mse]\n",
    "\n",
    "print(\"Features whose removal improves performance:\", improved_features)"
   ]
  },
  {
   "cell_type": "code",
   "execution_count": 112,
   "id": "b9fe60b6-5808-4335-aa84-a69f3c0f1b9b",
   "metadata": {},
   "outputs": [
    {
     "data": {
      "text/plain": [
       "0.6631722563677425"
      ]
     },
     "execution_count": 112,
     "metadata": {},
     "output_type": "execute_result"
    }
   ],
   "source": [
    "mse_reduced"
   ]
  },
  {
   "cell_type": "code",
   "execution_count": 102,
   "id": "9b4228be-8cc2-4171-99e8-b0c1789d9177",
   "metadata": {},
   "outputs": [],
   "source": [
    "# Dropping suggested columns\n",
    "xdata_new = xdata.drop(['number_of_reviews', 'Charm', 'calculated_host_listings_count'], axis=1)"
   ]
  },
  {
   "cell_type": "code",
   "execution_count": 103,
   "id": "220d0a68-7292-4743-b57a-523758718819",
   "metadata": {},
   "outputs": [],
   "source": [
    "xdatan_new = xdata_new.values"
   ]
  },
  {
   "cell_type": "code",
   "execution_count": 106,
   "id": "e99f4a58-da5b-41c3-b072-2c1b73c29983",
   "metadata": {},
   "outputs": [
    {
     "data": {
      "text/plain": [
       "Index(['minimum_nights', 'reviews_per_month', 'availability_365', 'Asheville',\n",
       "       'Austin', 'Boston', 'Broward County', 'Cambridge', 'Chicago',\n",
       "       'Clark County', 'Columbus', 'Denver', 'Hawaii', 'Jersey City',\n",
       "       'Los Angeles', 'Nashville', 'New Orleans', 'New York City', 'Oakland',\n",
       "       'Pacific Grove', 'Portland', 'Rhode Island', 'Salem',\n",
       "       'San Clara Country', 'San Diego', 'San Francisco', 'San Mateo County',\n",
       "       'Santa Cruz County', 'Seattle', 'Twin Cities MSA', 'Washington D.C.',\n",
       "       'Entire', 'Minutes', 'Clean', 'Convenient', 'Cozy', 'Comfortable'],\n",
       "      dtype='object')"
      ]
     },
     "execution_count": 106,
     "metadata": {},
     "output_type": "execute_result"
    }
   ],
   "source": [
    "xdata_new.columns"
   ]
  },
  {
   "cell_type": "code",
   "execution_count": 109,
   "id": "a4d80c15-607a-41f0-ac50-7692a28da0a8",
   "metadata": {},
   "outputs": [
    {
     "name": "stdout",
     "output_type": "stream",
     "text": [
      "Cross Validation\n",
      "Average MSE 0.65950 std of MSE 0.58\n"
     ]
    }
   ],
   "source": [
    "# Evaluate model performance (e.g., through cross-validation)\n",
    "scores3 = cross_val_score(LinearRegression(), xdatan_new, ydatan.ravel(), cv=5, scoring='neg_mean_squared_error')\n",
    "scores3 = -scores3\n",
    "print(\"Cross Validation\")\n",
    "print(\"Average MSE %0.5f std of MSE %0.2f\" % (scores3.mean(), scores3.std()))"
   ]
  },
  {
   "cell_type": "markdown",
   "id": "0a71561e-d904-4ad3-a65d-6d43f0b97157",
   "metadata": {},
   "source": [
    "### 2(a)"
   ]
  },
  {
   "cell_type": "code",
   "execution_count": 24,
   "id": "cb94d060-263d-469a-9d0b-b86cd1b444cf",
   "metadata": {},
   "outputs": [],
   "source": [
    "import numpy as np\n",
    "\n",
    "# Setting random seed\n",
    "np.random.seed(42)\n",
    "\n",
    "def generate_sample(N=500):\n",
    "    # Parameters\n",
    "    mu_2, sigma_2 = 1, np.sqrt(2)\n",
    "    mu_e, sigma_e = 0, np.sqrt(2)\n",
    "    mu_u, sigma_u = 0, np.sqrt(3)\n",
    "    gamma_0, gamma_1 = 0.5, 1\n",
    "    beta_0, beta_1, beta_2 = 0.5, 1, 1.5\n",
    "    \n",
    "    # Generate X_i2\n",
    "    X_i2 = np.random.normal(mu_2, sigma_2, N)\n",
    "    \n",
    "    # Generate e_i for X_i1\n",
    "    e_i = np.random.normal(mu_e, sigma_e, N)\n",
    "    \n",
    "    # Calculate X_i1\n",
    "    X_i1 = gamma_0 + gamma_1 * X_i2 + e_i\n",
    "    \n",
    "    # Generate u_i for y_i\n",
    "    u_i = np.random.normal(mu_u, sigma_u, N)\n",
    "    \n",
    "    # Calculate y_i\n",
    "    y_i = beta_0 + beta_1 * X_i1 + beta_2 * X_i2 + u_i\n",
    "    \n",
    "    # Combine into a single array for X, including a column of ones for the intercept\n",
    "    X = np.column_stack((np.ones(N), X_i1, X_i2))\n",
    "    \n",
    "    return y_i, X\n"
   ]
  },
  {
   "cell_type": "code",
   "execution_count": 25,
   "id": "489fa45e-126f-4be7-9d37-4ac9f758f076",
   "metadata": {},
   "outputs": [],
   "source": [
    "# To generate N observations\n",
    "y_i, X = generate_sample(N=500)"
   ]
  },
  {
   "cell_type": "markdown",
   "id": "5b7e8c2b-8239-45c3-bc0c-0d6f1bc3eb94",
   "metadata": {},
   "source": [
    "### 2(b)"
   ]
  },
  {
   "cell_type": "code",
   "execution_count": 32,
   "id": "da044f7e-d754-486a-b5c3-437dcef5fa01",
   "metadata": {},
   "outputs": [],
   "source": [
    "from sklearn.model_selection import cross_val_score\n",
    "from sklearn.linear_model import LinearRegression\n",
    "from sklearn.metrics import make_scorer, mean_squared_error\n",
    "\n",
    "# Parameters\n",
    "S = 1000  # Number of samples to generate\n",
    "k = 5  # Number of folds in k-fold CV\n",
    "mse_scores = np.zeros(S)  # Vector to store MSEs\n",
    "\n",
    "for s in range(S):\n",
    "    # Setting random seed\n",
    "    np.random.seed(42)\n",
    "    # Generate a sample\n",
    "    y_i, X = generate_sample(N=500)\n",
    "    \n",
    "    # Linear Regression model\n",
    "    model = LinearRegression()\n",
    "    \n",
    "    # k-fold CV to calculate MSE\n",
    "    mse = cross_val_score(model, X, y_i, cv=k, scoring=make_scorer(mean_squared_error)).mean()\n",
    "    \n",
    "    # Store the MSE\n",
    "    mse_scores[s] = mse"
   ]
  },
  {
   "cell_type": "code",
   "execution_count": 33,
   "id": "9a1f46e4-2ac9-49a4-8e52-1be6d998690b",
   "metadata": {},
   "outputs": [
    {
     "data": {
      "text/plain": [
       "3.064289472470833"
      ]
     },
     "execution_count": 33,
     "metadata": {},
     "output_type": "execute_result"
    }
   ],
   "source": [
    "mse_scores[s]"
   ]
  },
  {
   "cell_type": "markdown",
   "id": "413095e5-c53c-4e9c-ba06-4867a7dcb4d1",
   "metadata": {},
   "source": [
    "### 2(c)"
   ]
  },
  {
   "cell_type": "code",
   "execution_count": 38,
   "id": "1849dee5-e045-4999-bd65-29698b419d75",
   "metadata": {},
   "outputs": [],
   "source": [
    "from sklearn.linear_model import Ridge, RidgeCV\n",
    "from sklearn.model_selection import KFold\n",
    "\n",
    "# Parameters\n",
    "mse_scores_ridge = np.zeros(S)  # Vector to store MSEs\n",
    "optimal_lambdas = np.zeros(S)  # Vector to store optimal penalty values\n",
    "\n",
    "for s in range(S):\n",
    "    # Setting random seed\n",
    "    np.random.seed(42)\n",
    "    # Generate a sample\n",
    "    y_i, X = generate_sample(N=500)\n",
    "    \n",
    "    # Define a range of alpha (lambda) values to explore\n",
    "    alphas = np.logspace(-6, 6, 13)\n",
    "    \n",
    "    # Ridge Regression with built-in cross-validation to find the optimal alpha\n",
    "    model_ridge_cv = RidgeCV(alphas=alphas, cv=k, scoring='neg_mean_squared_error')\n",
    "    model_ridge_cv.fit(X, y_i)\n",
    "    \n",
    "    # The optimal alpha (lambda) and corresponding MSE\n",
    "    optimal_lambda = model_ridge_cv.alpha_\n",
    "    optimal_mse = mean_squared_error(y_i, model_ridge_cv.predict(X))\n",
    "    \n",
    "    # Store the optimal lambda and MSE\n",
    "    mse_scores_ridge[s] = optimal_mse\n",
    "    optimal_lambdas[s] = optimal_lambda\n"
   ]
  },
  {
   "cell_type": "code",
   "execution_count": 39,
   "id": "cb2074b4-d287-41b8-a6d4-eb0b1b9261a1",
   "metadata": {},
   "outputs": [
    {
     "data": {
      "text/plain": [
       "3.0296840257481064"
      ]
     },
     "execution_count": 39,
     "metadata": {},
     "output_type": "execute_result"
    }
   ],
   "source": [
    "mse_scores_ridge[s]"
   ]
  },
  {
   "cell_type": "code",
   "execution_count": 40,
   "id": "927efe37-59b5-4d05-8dab-baade679e43c",
   "metadata": {},
   "outputs": [
    {
     "data": {
      "text/plain": [
       "1.0"
      ]
     },
     "execution_count": 40,
     "metadata": {},
     "output_type": "execute_result"
    }
   ],
   "source": [
    "optimal_lambdas[s]"
   ]
  },
  {
   "cell_type": "markdown",
   "id": "2d723327-0aa5-404c-a75c-8bbc68340b99",
   "metadata": {},
   "source": [
    "### 2(d)"
   ]
  },
  {
   "cell_type": "code",
   "execution_count": 44,
   "id": "4811b7ad-c9c8-48fe-bd13-341e016fe0f4",
   "metadata": {},
   "outputs": [],
   "source": [
    "from sklearn.linear_model import LassoCV\n",
    "\n",
    "# Parameters\n",
    "mse_scores_lasso = np.zeros(S)  # Vector to store MSEs\n",
    "optimal_lambdas_lasso = np.zeros(S)  # Vector to store optimal penalty values (lambda)\n",
    "\n",
    "for s in range(S):\n",
    "    # Setting random seed\n",
    "    np.random.seed(42)\n",
    "    # Generate a sample\n",
    "    y_i, X = generate_sample(N=500)\n",
    "    \n",
    "    # Lasso Regression with built-in cross-validation to find the optimal alpha (lambda)\n",
    "    model_lasso_cv = LassoCV(cv=k, random_state=0, alphas=np.logspace(-6, 2, 100))\n",
    "    model_lasso_cv.fit(X, y_i)\n",
    "    \n",
    "    # The optimal alpha (lambda) and corresponding MSE\n",
    "    optimal_lambda_lasso = model_lasso_cv.alpha_\n",
    "    optimal_mse_lasso = mean_squared_error(y_i, model_lasso_cv.predict(X))\n",
    "    \n",
    "    # Store the optimal lambda and MSE\n",
    "    mse_scores_lasso[s] = optimal_mse_lasso\n",
    "    optimal_lambdas_lasso[s] = optimal_lambda_lasso\n"
   ]
  },
  {
   "cell_type": "code",
   "execution_count": 45,
   "id": "b15b44d0-6475-4715-8f4b-c38e4fd2e94d",
   "metadata": {},
   "outputs": [
    {
     "data": {
      "text/plain": [
       "3.029680234768098"
      ]
     },
     "execution_count": 45,
     "metadata": {},
     "output_type": "execute_result"
    }
   ],
   "source": [
    "mse_scores_lasso[s]"
   ]
  },
  {
   "cell_type": "code",
   "execution_count": 46,
   "id": "4002d41e-c6cb-4b6c-9550-5354296d5fb9",
   "metadata": {},
   "outputs": [
    {
     "data": {
      "text/plain": [
       "1e-06"
      ]
     },
     "execution_count": 46,
     "metadata": {},
     "output_type": "execute_result"
    }
   ],
   "source": [
    "optimal_lambdas_lasso[s]"
   ]
  },
  {
   "cell_type": "markdown",
   "id": "a75d50e7-97da-4a4c-8833-a58c8f29fd78",
   "metadata": {},
   "source": [
    "### 2(e)"
   ]
  },
  {
   "cell_type": "code",
   "execution_count": 16,
   "id": "1a5d59d5-149d-4588-b1c0-858a5d48f981",
   "metadata": {},
   "outputs": [
    {
     "data": {
      "image/png": "[encoded data removed]",
      "text/plain": [
       "<Figure size 1000x600 with 1 Axes>"
      ]
     },
     "metadata": {},
     "output_type": "display_data"
    }
   ],
   "source": [
    "import matplotlib.pyplot as plt\n",
    "\n",
    "# Plot\n",
    "data_to_plot = [mse_scores, mse_scores_ridge, mse_scores_lasso]\n",
    "labels = ['OLS', 'Ridge', 'Lasso']\n",
    "\n",
    "# Create the boxplot\n",
    "plt.figure(figsize=(10, 6))\n",
    "plt.boxplot(data_to_plot, labels=labels)\n",
    "plt.title('Comparison of MSEs for OLS, Ridge, and Lasso Regression')\n",
    "plt.ylabel('Mean Squared Error (MSE)')\n",
    "plt.xlabel('Regression Method')\n",
    "plt.grid(True, which='both', linestyle='--', linewidth=0.5)\n",
    "plt.yscale('log')  # Optional: Use logarithmic scale for better visibility if needed\n",
    "plt.show()\n"
   ]
  }
 ],
 "metadata": {
  "kernelspec": {
   "display_name": "Python 3 (ipykernel)",
   "language": "python",
   "name": "python3"
  },
  "language_info": {
   "codemirror_mode": {
    "name": "ipython",
    "version": 3
   },
   "file_extension": ".py",
   "mimetype": "text/x-python",
   "name": "python",
   "nbconvert_exporter": "python",
   "pygments_lexer": "ipython3",
   "version": "3.8.18"
  }
 },
 "nbformat": 4,
 "nbformat_minor": 5
}
